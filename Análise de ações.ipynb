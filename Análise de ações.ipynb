{
 "cells": [
  {
   "cell_type": "markdown",
   "id": "9c602c65-ab43-49dc-8c1a-b2f62f10dad4",
   "metadata": {},
   "source": [
    "# <p style=\"text-align: center;\">ESTUDO SOBRE ANÁLISE DE AÇÕES + MACHINE LEARNING</p>"
   ]
  },
  {
   "cell_type": "markdown",
   "id": "e434643c-8b77-4d03-a73e-1b7e1df5396b",
   "metadata": {},
   "source": [
    "## Bibliotecas usadas"
   ]
  },
  {
   "cell_type": "code",
   "execution_count": null,
   "id": "28de0f7d-819a-4990-bd8a-d0e5a22c9208",
   "metadata": {},
   "outputs": [],
   "source": [
    "import yfinance as yf\n",
    "import matplotlib.pyplot as plt\n",
    "import pandas as pd\n",
    "import matplotlib.dates as mdates\n",
    "from prophet import Prophet\n",
    "from prophet.plot import plot_plotly\n",
    "import plotly.graph_objects as go\n",
    "\n"
   ]
  },
  {
   "cell_type": "markdown",
   "id": "c8240585-b64a-484d-8530-7a761c81e613",
   "metadata": {},
   "source": [
    "## Identificando a ação"
   ]
  },
  {
   "cell_type": "markdown",
   "id": "88e73091-3e99-4cdc-bc13-6080bdc38d34",
   "metadata": {},
   "source": [
    "#### Código"
   ]
  },
  {
   "cell_type": "code",
   "execution_count": null,
   "id": "c541ccab-263e-46e2-9719-88761530a0f3",
   "metadata": {},
   "outputs": [],
   "source": [
    "acao = input(\"Insira a ação para o estudo: \")       \n",
    "ticker_acao = yf.Ticker(acao)"
   ]
  },
  {
   "cell_type": "markdown",
   "id": "9c484495-04cb-42e4-93c1-c71c62b35e51",
   "metadata": {},
   "source": [
    "#### Ação analisada:"
   ]
  },
  {
   "cell_type": "code",
   "execution_count": null,
   "id": "27b2b2a8-742d-4bdb-9c72-aea9f6f4689e",
   "metadata": {
    "scrolled": true
   },
   "outputs": [],
   "source": [
    "acao"
   ]
  },
  {
   "cell_type": "markdown",
   "id": "237f30e7-1408-4f83-b5e6-901d94ab72ae",
   "metadata": {},
   "source": [
    "## Histórico da ação"
   ]
  },
  {
   "cell_type": "markdown",
   "id": "58201981-8bb5-4544-8505-d84ca1979f84",
   "metadata": {},
   "source": [
    "#### Código"
   ]
  },
  {
   "cell_type": "code",
   "execution_count": null,
   "id": "be52414e-3fd9-4433-84bc-0910d160a75e",
   "metadata": {},
   "outputs": [],
   "source": [
    "historico = ticker_acao.history()\n",
    "historico.index = pd.to_datetime(historico.index)\n",
    "historico.index = historico.index.strftime('%Y-%m-%d')\n"
   ]
  },
  {
   "cell_type": "code",
   "execution_count": null,
   "id": "4682bd68-06c7-4aae-8621-a4df7959a9eb",
   "metadata": {},
   "outputs": [],
   "source": [
    "historico"
   ]
  },
  {
   "cell_type": "markdown",
   "id": "7e56ee3b-a879-4aa4-8254-ceda6c5e4231",
   "metadata": {},
   "source": [
    "## Análise de 6 meses"
   ]
  },
  {
   "cell_type": "markdown",
   "id": "8aebd66b-4283-496f-bdcb-8226ee1b83ec",
   "metadata": {
    "jp-MarkdownHeadingCollapsed": true
   },
   "source": [
    "#### Código"
   ]
  },
  {
   "cell_type": "code",
   "execution_count": null,
   "id": "d47dadbb-7faa-43cd-9419-7096ecadad38",
   "metadata": {},
   "outputs": [],
   "source": [
    "seis_meses = ticker_acao.history(\"6mo\")\n",
    "fechamento = seis_meses.Close\n",
    "seis_meses.index = pd.to_datetime(seis_meses.index)\n",
    "seis_meses.index = seis_meses.index.strftime('%Y-%m-%d')\n",
    "fechamento.index = pd.to_datetime(fechamento.index)\n",
    "fechamento.index = fechamento.index.strftime('%Y-%m-%d')\n",
    "abertura = seis_meses.Open\n",
    "abertura.index = pd.to_datetime(abertura.index)\n",
    "abertura.index = abertura.index.strftime('%Y-%m-%d')"
   ]
  },
  {
   "cell_type": "markdown",
   "id": "d5ce9085-375f-4922-93a0-e4e62db51481",
   "metadata": {},
   "source": [
    "## <p style=\"text-align: center;\">Visualização de dados</p>"
   ]
  },
  {
   "cell_type": "code",
   "execution_count": null,
   "id": "8a0108dc-d978-405a-97fa-3ec9bf532dfd",
   "metadata": {},
   "outputs": [],
   "source": [
    "seis_meses"
   ]
  },
  {
   "cell_type": "code",
   "execution_count": null,
   "id": "3159e178-8c6a-4f0c-a715-d0766e9bcee0",
   "metadata": {},
   "outputs": [],
   "source": [
    "plt.figure(figsize=(15,10))\n",
    "fechamento.index = pd.to_datetime(fechamento.index)\n",
    "abertura.index = pd.to_datetime(abertura.index)\n",
    "fechamento.plot(label='Fechamento')\n",
    "abertura.plot(label='Abertura')\n",
    "plt.title(f\"Gráfico de Fechamento - {acao}\")\n",
    "plt.xlabel('Data')\n",
    "plt.ylabel('Preço')\n",
    "plt.legend()\n"
   ]
  },
  {
   "cell_type": "code",
   "execution_count": null,
   "id": "908bc4b1-33fa-49df-b9e3-bc632ed58dab",
   "metadata": {},
   "outputs": [],
   "source": [
    "plt.figure(figsize=(15,10))\n",
    "seis_meses['Daily_Return'] = seis_meses['Close'].pct_change()\n",
    "plt.hist(seis_meses['Daily_Return'], bins=40, color='skyblue', edgecolor='black')\n",
    "plt.xlabel('Retorno Diário')\n",
    "plt.ylabel('Frequência')\n",
    "plt.title(f'Histograma de Retornos Diários - {acao}')\n",
    "figura_histograma = plt.gcf()\n",
    "\n",
    "\n"
   ]
  },
  {
   "cell_type": "markdown",
   "id": "27868ed5-c92e-4e2d-b588-9eb54dd047f9",
   "metadata": {},
   "source": [
    "### Previsões com machine learning"
   ]
  },
  {
   "cell_type": "code",
   "execution_count": null,
   "id": "c1c10425-c29a-4132-ab40-b3983b7d6fd3",
   "metadata": {},
   "outputs": [],
   "source": [
    "historico2 = ticker_acao.history(\"3y\")"
   ]
  },
  {
   "cell_type": "code",
   "execution_count": null,
   "id": "aab9a61d-64ae-4655-8eba-28cb0958d48d",
   "metadata": {},
   "outputs": [],
   "source": [
    "treinamento = historico2.reset_index()\n",
    "treinamento[\"Date\"] = treinamento[\"Date\"].dt.tz_localize(None)\n",
    "treinamento = treinamento[['Date', 'Close']]\n",
    "treinamento.columns = ['ds', 'y']\n",
    "modelo = Prophet()\n",
    "modelo.fit(treinamento)\n",
    "periodo = modelo.make_future_dataframe(periods=90)\n",
    "previsoes = modelo.predict(periodo)"
   ]
  },
  {
   "cell_type": "code",
   "execution_count": null,
   "id": "6cbebef3-3a36-4877-895f-c015a62cc212",
   "metadata": {},
   "outputs": [],
   "source": [
    "plot_plotly(modelo, previsoes, xlabel = \"período\", ylabel=\"valor\")\n"
   ]
  },
  {
   "cell_type": "code",
   "execution_count": null,
   "id": "44c43449-fba9-4b1c-a9db-6ab434a31be3",
   "metadata": {},
   "outputs": [],
   "source": []
  }
 ],
 "metadata": {
  "kernelspec": {
   "display_name": "Python 3 (ipykernel)",
   "language": "python",
   "name": "python3"
  },
  "language_info": {
   "codemirror_mode": {
    "name": "ipython",
    "version": 3
   },
   "file_extension": ".py",
   "mimetype": "text/x-python",
   "name": "python",
   "nbconvert_exporter": "python",
   "pygments_lexer": "ipython3",
   "version": "3.12.1"
  }
 },
 "nbformat": 4,
 "nbformat_minor": 5
}
