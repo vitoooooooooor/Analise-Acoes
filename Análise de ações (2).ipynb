{
 "cells": [
  {
   "cell_type": "markdown",
   "id": "9c602c65-ab43-49dc-8c1a-b2f62f10dad4",
   "metadata": {},
   "source": [
    "# <p style=\"text-align: center;\">ESTUDO SOBRE ANÁLISE DE AÇÕES + MACHINE LEARNING</p>"
   ]
  },
  {
   "cell_type": "markdown",
   "id": "e434643c-8b77-4d03-a73e-1b7e1df5396b",
   "metadata": {},
   "source": [
    "## Bibliotecas usadas"
   ]
  },
  {
   "cell_type": "code",
   "execution_count": 1,
   "id": "28de0f7d-819a-4990-bd8a-d0e5a22c9208",
   "metadata": {},
   "outputs": [
    {
     "name": "stderr",
     "output_type": "stream",
     "text": [
      "C:\\Users\\Administrador\\AppData\\Local\\Programs\\Python\\Python312\\Lib\\site-packages\\tqdm\\auto.py:21: TqdmWarning: IProgress not found. Please update jupyter and ipywidgets. See https://ipywidgets.readthedocs.io/en/stable/user_install.html\n",
      "  from .autonotebook import tqdm as notebook_tqdm\n"
     ]
    }
   ],
   "source": [
    "import yfinance as yf\n",
    "import matplotlib.pyplot as plt\n",
    "import pandas as pd\n",
    "import matplotlib.dates as mdates\n",
    "from prophet import Prophet\n",
    "from prophet.plot import plot_plotly\n",
    "import plotly.graph_objects as go\n",
    "\n"
   ]
  },
  {
   "cell_type": "markdown",
   "id": "c8240585-b64a-484d-8530-7a761c81e613",
   "metadata": {},
   "source": [
    "## Identificando a ação"
   ]
  },
  {
   "cell_type": "markdown",
   "id": "88e73091-3e99-4cdc-bc13-6080bdc38d34",
   "metadata": {},
   "source": [
    "#### Código"
   ]
  },
  {
   "cell_type": "code",
   "execution_count": 2,
   "id": "c541ccab-263e-46e2-9719-88761530a0f3",
   "metadata": {},
   "outputs": [
    {
     "name": "stdin",
     "output_type": "stream",
     "text": [
      "Insira a ação para o estudo:  PETR4.SA\n"
     ]
    }
   ],
   "source": [
    "acao = input(\"Insira a ação para o estudo: \")       \n",
    "ticker_acao = yf.Ticker(acao)"
   ]
  },
  {
   "cell_type": "markdown",
   "id": "9c484495-04cb-42e4-93c1-c71c62b35e51",
   "metadata": {},
   "source": [
    "#### Ação analisada:"
   ]
  },
  {
   "cell_type": "code",
   "execution_count": 3,
   "id": "27b2b2a8-742d-4bdb-9c72-aea9f6f4689e",
   "metadata": {
    "scrolled": true
   },
   "outputs": [
    {
     "data": {
      "text/plain": [
       "'PETR4.SA'"
      ]
     },
     "execution_count": 3,
     "metadata": {},
     "output_type": "execute_result"
    }
   ],
   "source": [
    "acao"
   ]
  },
  {
   "cell_type": "markdown",
   "id": "237f30e7-1408-4f83-b5e6-901d94ab72ae",
   "metadata": {},
   "source": [
    "## Histórico da ação"
   ]
  },
  {
   "cell_type": "markdown",
   "id": "58201981-8bb5-4544-8505-d84ca1979f84",
   "metadata": {},
   "source": [
    "#### Código"
   ]
  },
  {
   "cell_type": "code",
   "execution_count": 4,
   "id": "be52414e-3fd9-4433-84bc-0910d160a75e",
   "metadata": {},
   "outputs": [
    {
     "name": "stderr",
     "output_type": "stream",
     "text": [
      "C:\\Users\\Administrador\\AppData\\Local\\Programs\\Python\\Python312\\Lib\\site-packages\\yfinance\\utils.py:775: FutureWarning: The 'unit' keyword in TimedeltaIndex construction is deprecated and will be removed in a future version. Use pd.to_timedelta instead.\n",
      "  df.index += _pd.TimedeltaIndex(dst_error_hours, 'h')\n"
     ]
    }
   ],
   "source": [
    "historico = ticker_acao.history()\n",
    "historico.index = pd.to_datetime(historico.index)\n",
    "historico.index = historico.index.strftime('%Y-%m-%d')\n"
   ]
  },
  {
   "cell_type": "code",
   "execution_count": 5,
   "id": "4682bd68-06c7-4aae-8621-a4df7959a9eb",
   "metadata": {},
   "outputs": [
    {
     "data": {
      "text/html": [
       "<div>\n",
       "<style scoped>\n",
       "    .dataframe tbody tr th:only-of-type {\n",
       "        vertical-align: middle;\n",
       "    }\n",
       "\n",
       "    .dataframe tbody tr th {\n",
       "        vertical-align: top;\n",
       "    }\n",
       "\n",
       "    .dataframe thead th {\n",
       "        text-align: right;\n",
       "    }\n",
       "</style>\n",
       "<table border=\"1\" class=\"dataframe\">\n",
       "  <thead>\n",
       "    <tr style=\"text-align: right;\">\n",
       "      <th></th>\n",
       "      <th>Open</th>\n",
       "      <th>High</th>\n",
       "      <th>Low</th>\n",
       "      <th>Close</th>\n",
       "      <th>Volume</th>\n",
       "      <th>Dividends</th>\n",
       "      <th>Stock Splits</th>\n",
       "    </tr>\n",
       "    <tr>\n",
       "      <th>Date</th>\n",
       "      <th></th>\n",
       "      <th></th>\n",
       "      <th></th>\n",
       "      <th></th>\n",
       "      <th></th>\n",
       "      <th></th>\n",
       "      <th></th>\n",
       "    </tr>\n",
       "  </thead>\n",
       "  <tbody>\n",
       "    <tr>\n",
       "      <th>2024-01-02</th>\n",
       "      <td>37.439999</td>\n",
       "      <td>37.889999</td>\n",
       "      <td>37.400002</td>\n",
       "      <td>37.779999</td>\n",
       "      <td>24043800</td>\n",
       "      <td>0.0</td>\n",
       "      <td>0.0</td>\n",
       "    </tr>\n",
       "    <tr>\n",
       "      <th>2024-01-03</th>\n",
       "      <td>37.799999</td>\n",
       "      <td>39.119999</td>\n",
       "      <td>37.669998</td>\n",
       "      <td>38.959999</td>\n",
       "      <td>52300200</td>\n",
       "      <td>0.0</td>\n",
       "      <td>0.0</td>\n",
       "    </tr>\n",
       "    <tr>\n",
       "      <th>2024-01-04</th>\n",
       "      <td>39.119999</td>\n",
       "      <td>39.349998</td>\n",
       "      <td>38.509998</td>\n",
       "      <td>38.630001</td>\n",
       "      <td>45344900</td>\n",
       "      <td>0.0</td>\n",
       "      <td>0.0</td>\n",
       "    </tr>\n",
       "    <tr>\n",
       "      <th>2024-01-05</th>\n",
       "      <td>38.869999</td>\n",
       "      <td>39.139999</td>\n",
       "      <td>38.410000</td>\n",
       "      <td>38.720001</td>\n",
       "      <td>35783700</td>\n",
       "      <td>0.0</td>\n",
       "      <td>0.0</td>\n",
       "    </tr>\n",
       "    <tr>\n",
       "      <th>2024-01-08</th>\n",
       "      <td>38.380001</td>\n",
       "      <td>38.430000</td>\n",
       "      <td>37.610001</td>\n",
       "      <td>38.430000</td>\n",
       "      <td>35158100</td>\n",
       "      <td>0.0</td>\n",
       "      <td>0.0</td>\n",
       "    </tr>\n",
       "    <tr>\n",
       "      <th>2024-01-09</th>\n",
       "      <td>38.669998</td>\n",
       "      <td>38.750000</td>\n",
       "      <td>38.029999</td>\n",
       "      <td>38.099998</td>\n",
       "      <td>27279000</td>\n",
       "      <td>0.0</td>\n",
       "      <td>0.0</td>\n",
       "    </tr>\n",
       "    <tr>\n",
       "      <th>2024-01-10</th>\n",
       "      <td>38.099998</td>\n",
       "      <td>38.270000</td>\n",
       "      <td>37.509998</td>\n",
       "      <td>37.750000</td>\n",
       "      <td>27382000</td>\n",
       "      <td>0.0</td>\n",
       "      <td>0.0</td>\n",
       "    </tr>\n",
       "    <tr>\n",
       "      <th>2024-01-11</th>\n",
       "      <td>37.980000</td>\n",
       "      <td>38.150002</td>\n",
       "      <td>37.700001</td>\n",
       "      <td>38.070000</td>\n",
       "      <td>26564400</td>\n",
       "      <td>0.0</td>\n",
       "      <td>0.0</td>\n",
       "    </tr>\n",
       "    <tr>\n",
       "      <th>2024-01-12</th>\n",
       "      <td>38.500000</td>\n",
       "      <td>38.730000</td>\n",
       "      <td>38.169998</td>\n",
       "      <td>38.169998</td>\n",
       "      <td>24479500</td>\n",
       "      <td>0.0</td>\n",
       "      <td>0.0</td>\n",
       "    </tr>\n",
       "    <tr>\n",
       "      <th>2024-01-15</th>\n",
       "      <td>37.990002</td>\n",
       "      <td>38.619999</td>\n",
       "      <td>37.860001</td>\n",
       "      <td>38.580002</td>\n",
       "      <td>13818300</td>\n",
       "      <td>0.0</td>\n",
       "      <td>0.0</td>\n",
       "    </tr>\n",
       "    <tr>\n",
       "      <th>2024-01-16</th>\n",
       "      <td>38.610001</td>\n",
       "      <td>38.790001</td>\n",
       "      <td>38.080002</td>\n",
       "      <td>38.099998</td>\n",
       "      <td>31277700</td>\n",
       "      <td>0.0</td>\n",
       "      <td>0.0</td>\n",
       "    </tr>\n",
       "    <tr>\n",
       "      <th>2024-01-17</th>\n",
       "      <td>37.970001</td>\n",
       "      <td>38.150002</td>\n",
       "      <td>37.820000</td>\n",
       "      <td>37.880001</td>\n",
       "      <td>27577300</td>\n",
       "      <td>0.0</td>\n",
       "      <td>0.0</td>\n",
       "    </tr>\n",
       "    <tr>\n",
       "      <th>2024-01-18</th>\n",
       "      <td>38.139999</td>\n",
       "      <td>38.139999</td>\n",
       "      <td>37.560001</td>\n",
       "      <td>37.730000</td>\n",
       "      <td>22987200</td>\n",
       "      <td>0.0</td>\n",
       "      <td>0.0</td>\n",
       "    </tr>\n",
       "    <tr>\n",
       "      <th>2024-01-19</th>\n",
       "      <td>37.810001</td>\n",
       "      <td>37.900002</td>\n",
       "      <td>37.230000</td>\n",
       "      <td>37.529999</td>\n",
       "      <td>31745200</td>\n",
       "      <td>0.0</td>\n",
       "      <td>0.0</td>\n",
       "    </tr>\n",
       "    <tr>\n",
       "      <th>2024-01-22</th>\n",
       "      <td>37.500000</td>\n",
       "      <td>37.810001</td>\n",
       "      <td>37.230000</td>\n",
       "      <td>37.700001</td>\n",
       "      <td>22753700</td>\n",
       "      <td>0.0</td>\n",
       "      <td>0.0</td>\n",
       "    </tr>\n",
       "    <tr>\n",
       "      <th>2024-01-23</th>\n",
       "      <td>37.840000</td>\n",
       "      <td>38.369999</td>\n",
       "      <td>37.430000</td>\n",
       "      <td>38.169998</td>\n",
       "      <td>32498500</td>\n",
       "      <td>0.0</td>\n",
       "      <td>0.0</td>\n",
       "    </tr>\n",
       "    <tr>\n",
       "      <th>2024-01-24</th>\n",
       "      <td>38.290001</td>\n",
       "      <td>38.540001</td>\n",
       "      <td>37.770000</td>\n",
       "      <td>37.880001</td>\n",
       "      <td>25415300</td>\n",
       "      <td>0.0</td>\n",
       "      <td>0.0</td>\n",
       "    </tr>\n",
       "    <tr>\n",
       "      <th>2024-01-25</th>\n",
       "      <td>38.259998</td>\n",
       "      <td>39.279999</td>\n",
       "      <td>38.130001</td>\n",
       "      <td>39.279999</td>\n",
       "      <td>48655300</td>\n",
       "      <td>0.0</td>\n",
       "      <td>0.0</td>\n",
       "    </tr>\n",
       "    <tr>\n",
       "      <th>2024-01-26</th>\n",
       "      <td>39.099998</td>\n",
       "      <td>40.090000</td>\n",
       "      <td>38.910000</td>\n",
       "      <td>39.959999</td>\n",
       "      <td>41378200</td>\n",
       "      <td>0.0</td>\n",
       "      <td>0.0</td>\n",
       "    </tr>\n",
       "    <tr>\n",
       "      <th>2024-01-29</th>\n",
       "      <td>40.000000</td>\n",
       "      <td>40.590000</td>\n",
       "      <td>39.830002</td>\n",
       "      <td>40.490002</td>\n",
       "      <td>28667600</td>\n",
       "      <td>0.0</td>\n",
       "      <td>0.0</td>\n",
       "    </tr>\n",
       "  </tbody>\n",
       "</table>\n",
       "</div>"
      ],
      "text/plain": [
       "                 Open       High        Low      Close    Volume  Dividends  \\\n",
       "Date                                                                          \n",
       "2024-01-02  37.439999  37.889999  37.400002  37.779999  24043800        0.0   \n",
       "2024-01-03  37.799999  39.119999  37.669998  38.959999  52300200        0.0   \n",
       "2024-01-04  39.119999  39.349998  38.509998  38.630001  45344900        0.0   \n",
       "2024-01-05  38.869999  39.139999  38.410000  38.720001  35783700        0.0   \n",
       "2024-01-08  38.380001  38.430000  37.610001  38.430000  35158100        0.0   \n",
       "2024-01-09  38.669998  38.750000  38.029999  38.099998  27279000        0.0   \n",
       "2024-01-10  38.099998  38.270000  37.509998  37.750000  27382000        0.0   \n",
       "2024-01-11  37.980000  38.150002  37.700001  38.070000  26564400        0.0   \n",
       "2024-01-12  38.500000  38.730000  38.169998  38.169998  24479500        0.0   \n",
       "2024-01-15  37.990002  38.619999  37.860001  38.580002  13818300        0.0   \n",
       "2024-01-16  38.610001  38.790001  38.080002  38.099998  31277700        0.0   \n",
       "2024-01-17  37.970001  38.150002  37.820000  37.880001  27577300        0.0   \n",
       "2024-01-18  38.139999  38.139999  37.560001  37.730000  22987200        0.0   \n",
       "2024-01-19  37.810001  37.900002  37.230000  37.529999  31745200        0.0   \n",
       "2024-01-22  37.500000  37.810001  37.230000  37.700001  22753700        0.0   \n",
       "2024-01-23  37.840000  38.369999  37.430000  38.169998  32498500        0.0   \n",
       "2024-01-24  38.290001  38.540001  37.770000  37.880001  25415300        0.0   \n",
       "2024-01-25  38.259998  39.279999  38.130001  39.279999  48655300        0.0   \n",
       "2024-01-26  39.099998  40.090000  38.910000  39.959999  41378200        0.0   \n",
       "2024-01-29  40.000000  40.590000  39.830002  40.490002  28667600        0.0   \n",
       "\n",
       "            Stock Splits  \n",
       "Date                      \n",
       "2024-01-02           0.0  \n",
       "2024-01-03           0.0  \n",
       "2024-01-04           0.0  \n",
       "2024-01-05           0.0  \n",
       "2024-01-08           0.0  \n",
       "2024-01-09           0.0  \n",
       "2024-01-10           0.0  \n",
       "2024-01-11           0.0  \n",
       "2024-01-12           0.0  \n",
       "2024-01-15           0.0  \n",
       "2024-01-16           0.0  \n",
       "2024-01-17           0.0  \n",
       "2024-01-18           0.0  \n",
       "2024-01-19           0.0  \n",
       "2024-01-22           0.0  \n",
       "2024-01-23           0.0  \n",
       "2024-01-24           0.0  \n",
       "2024-01-25           0.0  \n",
       "2024-01-26           0.0  \n",
       "2024-01-29           0.0  "
      ]
     },
     "execution_count": 5,
     "metadata": {},
     "output_type": "execute_result"
    }
   ],
   "source": [
    "historico"
   ]
  },
  {
   "cell_type": "markdown",
   "id": "7e56ee3b-a879-4aa4-8254-ceda6c5e4231",
   "metadata": {},
   "source": [
    "## Análise de 6 meses"
   ]
  },
  {
   "cell_type": "markdown",
   "id": "8aebd66b-4283-496f-bdcb-8226ee1b83ec",
   "metadata": {
    "jp-MarkdownHeadingCollapsed": true
   },
   "source": [
    "#### Código"
   ]
  },
  {
   "cell_type": "code",
   "execution_count": 6,
   "id": "d47dadbb-7faa-43cd-9419-7096ecadad38",
   "metadata": {},
   "outputs": [
    {
     "name": "stderr",
     "output_type": "stream",
     "text": [
      "C:\\Users\\Administrador\\AppData\\Local\\Programs\\Python\\Python312\\Lib\\site-packages\\yfinance\\utils.py:775: FutureWarning: The 'unit' keyword in TimedeltaIndex construction is deprecated and will be removed in a future version. Use pd.to_timedelta instead.\n",
      "  df.index += _pd.TimedeltaIndex(dst_error_hours, 'h')\n"
     ]
    }
   ],
   "source": [
    "seis_meses = ticker_acao.history(\"6mo\")\n",
    "fechamento = seis_meses.Close\n",
    "seis_meses.index = pd.to_datetime(seis_meses.index)\n",
    "seis_meses.index = seis_meses.index.strftime('%Y-%m-%d')\n",
    "fechamento.index = pd.to_datetime(fechamento.index)\n",
    "fechamento.index = fechamento.index.strftime('%Y-%m-%d')\n",
    "abertura = seis_meses.Open\n",
    "abertura.index = pd.to_datetime(abertura.index)\n",
    "abertura.index = abertura.index.strftime('%Y-%m-%d')"
   ]
  },
  {
   "cell_type": "markdown",
   "id": "d5ce9085-375f-4922-93a0-e4e62db51481",
   "metadata": {},
   "source": [
    "## <p style=\"text-align: center;\">Visualização de dados</p>"
   ]
  },
  {
   "cell_type": "code",
   "execution_count": 7,
   "id": "8a0108dc-d978-405a-97fa-3ec9bf532dfd",
   "metadata": {},
   "outputs": [
    {
     "data": {
      "text/html": [
       "<div>\n",
       "<style scoped>\n",
       "    .dataframe tbody tr th:only-of-type {\n",
       "        vertical-align: middle;\n",
       "    }\n",
       "\n",
       "    .dataframe tbody tr th {\n",
       "        vertical-align: top;\n",
       "    }\n",
       "\n",
       "    .dataframe thead th {\n",
       "        text-align: right;\n",
       "    }\n",
       "</style>\n",
       "<table border=\"1\" class=\"dataframe\">\n",
       "  <thead>\n",
       "    <tr style=\"text-align: right;\">\n",
       "      <th></th>\n",
       "      <th>Open</th>\n",
       "      <th>High</th>\n",
       "      <th>Low</th>\n",
       "      <th>Close</th>\n",
       "      <th>Volume</th>\n",
       "      <th>Dividends</th>\n",
       "      <th>Stock Splits</th>\n",
       "    </tr>\n",
       "    <tr>\n",
       "      <th>Date</th>\n",
       "      <th></th>\n",
       "      <th></th>\n",
       "      <th></th>\n",
       "      <th></th>\n",
       "      <th></th>\n",
       "      <th></th>\n",
       "      <th></th>\n",
       "    </tr>\n",
       "  </thead>\n",
       "  <tbody>\n",
       "    <tr>\n",
       "      <th>2023-07-31</th>\n",
       "      <td>28.107458</td>\n",
       "      <td>28.895951</td>\n",
       "      <td>28.107458</td>\n",
       "      <td>28.858847</td>\n",
       "      <td>91290800</td>\n",
       "      <td>0.0</td>\n",
       "      <td>0.0</td>\n",
       "    </tr>\n",
       "    <tr>\n",
       "      <th>2023-08-01</th>\n",
       "      <td>28.840293</td>\n",
       "      <td>28.840293</td>\n",
       "      <td>27.782785</td>\n",
       "      <td>28.385750</td>\n",
       "      <td>75752400</td>\n",
       "      <td>0.0</td>\n",
       "      <td>0.0</td>\n",
       "    </tr>\n",
       "    <tr>\n",
       "      <th>2023-08-02</th>\n",
       "      <td>28.302263</td>\n",
       "      <td>28.367197</td>\n",
       "      <td>27.643638</td>\n",
       "      <td>28.320816</td>\n",
       "      <td>62068400</td>\n",
       "      <td>0.0</td>\n",
       "      <td>0.0</td>\n",
       "    </tr>\n",
       "    <tr>\n",
       "      <th>2023-08-03</th>\n",
       "      <td>28.691871</td>\n",
       "      <td>28.877398</td>\n",
       "      <td>28.404303</td>\n",
       "      <td>28.682594</td>\n",
       "      <td>57304400</td>\n",
       "      <td>0.0</td>\n",
       "      <td>0.0</td>\n",
       "    </tr>\n",
       "    <tr>\n",
       "      <th>2023-08-04</th>\n",
       "      <td>28.478516</td>\n",
       "      <td>28.886676</td>\n",
       "      <td>27.587982</td>\n",
       "      <td>27.829168</td>\n",
       "      <td>120685800</td>\n",
       "      <td>0.0</td>\n",
       "      <td>0.0</td>\n",
       "    </tr>\n",
       "    <tr>\n",
       "      <th>...</th>\n",
       "      <td>...</td>\n",
       "      <td>...</td>\n",
       "      <td>...</td>\n",
       "      <td>...</td>\n",
       "      <td>...</td>\n",
       "      <td>...</td>\n",
       "      <td>...</td>\n",
       "    </tr>\n",
       "    <tr>\n",
       "      <th>2024-01-23</th>\n",
       "      <td>37.840000</td>\n",
       "      <td>38.369999</td>\n",
       "      <td>37.430000</td>\n",
       "      <td>38.169998</td>\n",
       "      <td>32498500</td>\n",
       "      <td>0.0</td>\n",
       "      <td>0.0</td>\n",
       "    </tr>\n",
       "    <tr>\n",
       "      <th>2024-01-24</th>\n",
       "      <td>38.290001</td>\n",
       "      <td>38.540001</td>\n",
       "      <td>37.770000</td>\n",
       "      <td>37.880001</td>\n",
       "      <td>25415300</td>\n",
       "      <td>0.0</td>\n",
       "      <td>0.0</td>\n",
       "    </tr>\n",
       "    <tr>\n",
       "      <th>2024-01-25</th>\n",
       "      <td>38.259998</td>\n",
       "      <td>39.279999</td>\n",
       "      <td>38.130001</td>\n",
       "      <td>39.279999</td>\n",
       "      <td>48655300</td>\n",
       "      <td>0.0</td>\n",
       "      <td>0.0</td>\n",
       "    </tr>\n",
       "    <tr>\n",
       "      <th>2024-01-26</th>\n",
       "      <td>39.099998</td>\n",
       "      <td>40.090000</td>\n",
       "      <td>38.910000</td>\n",
       "      <td>39.959999</td>\n",
       "      <td>41378200</td>\n",
       "      <td>0.0</td>\n",
       "      <td>0.0</td>\n",
       "    </tr>\n",
       "    <tr>\n",
       "      <th>2024-01-29</th>\n",
       "      <td>40.000000</td>\n",
       "      <td>40.590000</td>\n",
       "      <td>39.830002</td>\n",
       "      <td>40.490002</td>\n",
       "      <td>28667600</td>\n",
       "      <td>0.0</td>\n",
       "      <td>0.0</td>\n",
       "    </tr>\n",
       "  </tbody>\n",
       "</table>\n",
       "<p>124 rows × 7 columns</p>\n",
       "</div>"
      ],
      "text/plain": [
       "                 Open       High        Low      Close     Volume  Dividends  \\\n",
       "Date                                                                           \n",
       "2023-07-31  28.107458  28.895951  28.107458  28.858847   91290800        0.0   \n",
       "2023-08-01  28.840293  28.840293  27.782785  28.385750   75752400        0.0   \n",
       "2023-08-02  28.302263  28.367197  27.643638  28.320816   62068400        0.0   \n",
       "2023-08-03  28.691871  28.877398  28.404303  28.682594   57304400        0.0   \n",
       "2023-08-04  28.478516  28.886676  27.587982  27.829168  120685800        0.0   \n",
       "...               ...        ...        ...        ...        ...        ...   \n",
       "2024-01-23  37.840000  38.369999  37.430000  38.169998   32498500        0.0   \n",
       "2024-01-24  38.290001  38.540001  37.770000  37.880001   25415300        0.0   \n",
       "2024-01-25  38.259998  39.279999  38.130001  39.279999   48655300        0.0   \n",
       "2024-01-26  39.099998  40.090000  38.910000  39.959999   41378200        0.0   \n",
       "2024-01-29  40.000000  40.590000  39.830002  40.490002   28667600        0.0   \n",
       "\n",
       "            Stock Splits  \n",
       "Date                      \n",
       "2023-07-31           0.0  \n",
       "2023-08-01           0.0  \n",
       "2023-08-02           0.0  \n",
       "2023-08-03           0.0  \n",
       "2023-08-04           0.0  \n",
       "...                  ...  \n",
       "2024-01-23           0.0  \n",
       "2024-01-24           0.0  \n",
       "2024-01-25           0.0  \n",
       "2024-01-26           0.0  \n",
       "2024-01-29           0.0  \n",
       "\n",
       "[124 rows x 7 columns]"
      ]
     },
     "execution_count": 7,
     "metadata": {},
     "output_type": "execute_result"
    }
   ],
   "source": [
    "seis_meses"
   ]
  },
  {
   "cell_type": "code",
   "execution_count": 8,
   "id": "3159e178-8c6a-4f0c-a715-d0766e9bcee0",
   "metadata": {},
   "outputs": [
    {
     "data": {
      "text/plain": [
       "<matplotlib.legend.Legend at 0x2778a8bc350>"
      ]
     },
     "execution_count": 8,
     "metadata": {},
     "output_type": "execute_result"
    },
    {
     "data": {
      "image/png": "[encoded data removed]",
      "text/plain": [
       "<Figure size 1500x1000 with 1 Axes>"
      ]
     },
     "metadata": {},
     "output_type": "display_data"
    }
   ],
   "source": [
    "plt.figure(figsize=(15,10))\n",
    "fechamento.index = pd.to_datetime(fechamento.index)\n",
    "abertura.index = pd.to_datetime(abertura.index)\n",
    "fechamento.plot(label='Fechamento')\n",
    "abertura.plot(label='Abertura')\n",
    "plt.title(f\"Gráfico de Fechamento - {acao}\")\n",
    "plt.xlabel('Data')\n",
    "plt.ylabel('Preço')\n",
    "plt.legend()\n"
   ]
  },
  {
   "cell_type": "code",
   "execution_count": 9,
   "id": "908bc4b1-33fa-49df-b9e3-bc632ed58dab",
   "metadata": {},
   "outputs": [
    {
     "data": {
      "image/png": "[encoded data removed]",
      "text/plain": [
       "<Figure size 1500x1000 with 1 Axes>"
      ]
     },
     "metadata": {},
     "output_type": "display_data"
    }
   ],
   "source": [
    "plt.figure(figsize=(15,10))\n",
    "seis_meses['Daily_Return'] = seis_meses['Close'].pct_change()\n",
    "plt.hist(seis_meses['Daily_Return'], bins=40, color='skyblue', edgecolor='black')\n",
    "plt.xlabel('Retorno Diário')\n",
    "plt.ylabel('Frequência')\n",
    "plt.title(f'Histograma de Retornos Diários - {acao}')\n",
    "figura_histograma = plt.gcf()\n",
    "\n",
    "\n"
   ]
  },
  {
   "cell_type": "markdown",
   "id": "27868ed5-c92e-4e2d-b588-9eb54dd047f9",
   "metadata": {},
   "source": [
    "### Previsões com machine learning"
   ]
  },
  {
   "cell_type": "code",
   "execution_count": 10,
   "id": "c1c10425-c29a-4132-ab40-b3983b7d6fd3",
   "metadata": {},
   "outputs": [
    {
     "name": "stderr",
     "output_type": "stream",
     "text": [
      "C:\\Users\\Administrador\\AppData\\Local\\Programs\\Python\\Python312\\Lib\\site-packages\\yfinance\\utils.py:775: FutureWarning: The 'unit' keyword in TimedeltaIndex construction is deprecated and will be removed in a future version. Use pd.to_timedelta instead.\n",
      "  df.index += _pd.TimedeltaIndex(dst_error_hours, 'h')\n"
     ]
    }
   ],
   "source": [
    "historico2 = ticker_acao.history(\"3y\")"
   ]
  },
  {
   "cell_type": "code",
   "execution_count": 11,
   "id": "aab9a61d-64ae-4655-8eba-28cb0958d48d",
   "metadata": {},
   "outputs": [
    {
     "name": "stderr",
     "output_type": "stream",
     "text": [
      "18:08:26 - cmdstanpy - INFO - Chain [1] start processing\n",
      "18:08:28 - cmdstanpy - INFO - Chain [1] done processing\n"
     ]
    }
   ],
   "source": [
    "treinamento = historico2.reset_index()\n",
    "treinamento[\"Date\"] = treinamento[\"Date\"].dt.tz_localize(None)\n",
    "treinamento = treinamento[['Date', 'Close']]\n",
    "treinamento.columns = ['ds', 'y']\n",
    "modelo = Prophet()\n",
    "modelo.fit(treinamento)\n",
    "periodo = modelo.make_future_dataframe(periods=90)\n",
    "previsoes = modelo.predict(periodo)"
   ]
  },
  {
   "cell_type": "code",
   "execution_count": null,
   "id": "6cbebef3-3a36-4877-895f-c015a62cc212",
   "metadata": {},
   "outputs": [],
   "source": [
    "plot_plotly(modelo, previsoes, xlabel = \"período\", ylabel=\"valor\")\n"
   ]
  },
  {
   "cell_type": "code",
   "execution_count": null,
   "id": "44c43449-fba9-4b1c-a9db-6ab434a31be3",
   "metadata": {},
   "outputs": [],
   "source": []
  }
 ],
 "metadata": {
  "kernelspec": {
   "display_name": "Python 3 (ipykernel)",
   "language": "python",
   "name": "python3"
  },
  "language_info": {
   "codemirror_mode": {
    "name": "ipython",
    "version": 3
   },
   "file_extension": ".py",
   "mimetype": "text/x-python",
   "name": "python",
   "nbconvert_exporter": "python",
   "pygments_lexer": "ipython3",
   "version": "3.12.1"
  }
 },
 "nbformat": 4,
 "nbformat_minor": 5
}
